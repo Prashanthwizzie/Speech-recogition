{
  "nbformat": 4,
  "nbformat_minor": 0,
  "metadata": {
    "colab": {
      "provenance": [],
      "authorship_tag": "ABX9TyO8uMrMUASAP4UJNezWmxx7",
      "include_colab_link": true
    },
    "kernelspec": {
      "name": "python3",
      "display_name": "Python 3"
    },
    "language_info": {
      "name": "python"
    }
  },
  "cells": [
    {
      "cell_type": "markdown",
      "metadata": {
        "id": "view-in-github",
        "colab_type": "text"
      },
      "source": [
        "<a href=\"https://colab.research.google.com/github/AbbasAlip/Speaker-Recognition-Using-Formants/blob/main/SpeakerRecognition.ipynb\" target=\"_parent\"><img src=\"https://colab.research.google.com/assets/colab-badge.svg\" alt=\"Open In Colab\"/></a>"
      ]
    },
    {
      "cell_type": "code",
      "execution_count": null,
      "metadata": {
        "colab": {
          "base_uri": "https://localhost:8080/"
        },
        "id": "D83KR9CQ-7ni",
        "outputId": "597925bc-6f56-46a3-97b1-58d397ecbe07"
      },
      "outputs": [
        {
          "output_type": "stream",
          "name": "stdout",
          "text": [
            "  Speakers  Formants-1  Formants-2  Formants-3  Formants-4\n",
            "0  person1         555        1683        2630        3816\n",
            "1  person1         575        1865        2597        3789\n",
            "2  person1         555        1907        2464        3915\n",
            "3  person1         575        1848        2563        3959\n",
            "4  person1         436        1728        2623        3876\n"
          ]
        }
      ],
      "source": [
        "import pandas as pd\n",
        "\n",
        "\n",
        "data = pd.read_csv('/content/persons1_formants.csv')\n",
        "\n",
        "\n",
        "print(data.head())\n"
      ]
    },
    {
      "cell_type": "code",
      "source": [
        "\n",
        "X = data[['Formants-1', 'Formants-2', 'Formants-3', 'Formants-4']].values\n",
        "y = data['Speakers'].values\n",
        "\n",
        "\n",
        "from sklearn.preprocessing import LabelEncoder\n",
        "\n",
        "label_encoder = LabelEncoder()\n",
        "y_encoded = label_encoder.fit_transform(y)\n"
      ],
      "metadata": {
        "id": "wW_IQG7j-96L"
      },
      "execution_count": null,
      "outputs": []
    },
    {
      "cell_type": "code",
      "source": [
        "from sklearn.model_selection import train_test_split\n",
        "\n",
        "X_train, X_test, y_train, y_test = train_test_split(X, y_encoded, test_size=0.2, random_state=42)\n"
      ],
      "metadata": {
        "id": "l-Edi4pf-_ds"
      },
      "execution_count": null,
      "outputs": []
    },
    {
      "cell_type": "code",
      "source": [
        "from sklearn.preprocessing import StandardScaler\n",
        "\n",
        "scaler = StandardScaler()\n",
        "X_train = scaler.fit_transform(X_train)\n",
        "X_test = scaler.transform(X_test)\n"
      ],
      "metadata": {
        "id": "BPf8Eom-_BH0"
      },
      "execution_count": null,
      "outputs": []
    },
    {
      "cell_type": "code",
      "source": [
        "import numpy as np\n",
        "import pandas as pd\n",
        "import tensorflow as tf\n",
        "from sklearn.model_selection import train_test_split\n",
        "from sklearn.preprocessing import LabelEncoder\n",
        "from sklearn import preprocessing\n",
        "\n",
        "\n",
        "data = pd.read_csv('/content/newFormants.csv')\n",
        "\n",
        "\n",
        "X = data[['Formants-1', 'Formants-2', 'Formants-3', 'Formants-4']].values\n",
        "y = data['Speakers'].values\n",
        "\n",
        "\n",
        "label_encoder = LabelEncoder()\n",
        "y_encoded = label_encoder.fit_transform(y)\n",
        "\n",
        "\n",
        "X_train, X_test, y_train, y_test = train_test_split(X, y_encoded, test_size=0.2, random_state=42)\n",
        "\n",
        "# Build the ANN model\n",
        "model = tf.keras.Sequential([\n",
        "    tf.keras.layers.Input(shape=(X_train.shape[1],)),\n",
        "    tf.keras.layers.Dense(256, activation='relu'),\n",
        "    tf.keras.layers.Dense(128, activation='relu'),\n",
        "    tf.keras.layers.Dense(64, activation='relu'),\n",
        "    tf.keras.layers.Dense(np.max(y_encoded) + 1, activation='softmax')\n",
        "])\n",
        "\n",
        "model.compile(optimizer='adam', loss='sparse_categorical_crossentropy', metrics=['accuracy'])\n",
        "\n",
        "history = model.fit(X_train, y_train, epochs=50,batch_size=32, validation_split=0.1, verbose=2)\n",
        "\n",
        "\n",
        "test_loss, test_accuracy = model.evaluate(X_test, y_test)\n",
        "print(f'Test Accuracy: {test_accuracy * 100:.2f}%')\n",
        "model.save('trainedmodel.h')\n"
      ],
      "metadata": {
        "colab": {
          "base_uri": "https://localhost:8080/"
        },
        "id": "R9XZXlhf_Eg3",
        "outputId": "826cab5c-05e2-48b3-f515-d2b336130c22"
      },
      "execution_count": null,
      "outputs": [
        {
          "output_type": "stream",
          "name": "stdout",
          "text": [
            "Epoch 1/50\n",
            "2/2 - 1s - loss: 257.8473 - accuracy: 0.4386 - val_loss: 37.7874 - val_accuracy: 0.5714 - 970ms/epoch - 485ms/step\n",
            "Epoch 2/50\n",
            "2/2 - 0s - loss: 49.9338 - accuracy: 0.5614 - val_loss: 66.6032 - val_accuracy: 0.5714 - 35ms/epoch - 18ms/step\n",
            "Epoch 3/50\n",
            "2/2 - 0s - loss: 58.3834 - accuracy: 0.5614 - val_loss: 17.1955 - val_accuracy: 0.5714 - 33ms/epoch - 17ms/step\n",
            "Epoch 4/50\n",
            "2/2 - 0s - loss: 23.6104 - accuracy: 0.5088 - val_loss: 43.6026 - val_accuracy: 0.4286 - 37ms/epoch - 18ms/step\n",
            "Epoch 5/50\n",
            "2/2 - 0s - loss: 39.5765 - accuracy: 0.4386 - val_loss: 3.6155 - val_accuracy: 0.4286 - 33ms/epoch - 17ms/step\n",
            "Epoch 6/50\n",
            "2/2 - 0s - loss: 12.3174 - accuracy: 0.4386 - val_loss: 29.8894 - val_accuracy: 0.5714 - 35ms/epoch - 17ms/step\n",
            "Epoch 7/50\n",
            "2/2 - 0s - loss: 32.6741 - accuracy: 0.5614 - val_loss: 23.2355 - val_accuracy: 0.5714 - 37ms/epoch - 18ms/step\n",
            "Epoch 8/50\n",
            "2/2 - 0s - loss: 21.1018 - accuracy: 0.5614 - val_loss: 6.6893 - val_accuracy: 0.4286 - 35ms/epoch - 17ms/step\n",
            "Epoch 9/50\n",
            "2/2 - 0s - loss: 8.3292 - accuracy: 0.4035 - val_loss: 6.7697 - val_accuracy: 0.4286 - 34ms/epoch - 17ms/step\n",
            "Epoch 10/50\n",
            "2/2 - 0s - loss: 6.3777 - accuracy: 0.4912 - val_loss: 11.8140 - val_accuracy: 0.5714 - 35ms/epoch - 18ms/step\n",
            "Epoch 11/50\n",
            "2/2 - 0s - loss: 12.0296 - accuracy: 0.5614 - val_loss: 3.1242 - val_accuracy: 0.5714 - 34ms/epoch - 17ms/step\n",
            "Epoch 12/50\n",
            "2/2 - 0s - loss: 7.1151 - accuracy: 0.5088 - val_loss: 16.0160 - val_accuracy: 0.4286 - 60ms/epoch - 30ms/step\n",
            "Epoch 13/50\n",
            "2/2 - 0s - loss: 11.9270 - accuracy: 0.4386 - val_loss: 5.4546 - val_accuracy: 0.5714 - 33ms/epoch - 16ms/step\n",
            "Epoch 14/50\n",
            "2/2 - 0s - loss: 8.4842 - accuracy: 0.5614 - val_loss: 9.7947 - val_accuracy: 0.5714 - 37ms/epoch - 19ms/step\n",
            "Epoch 15/50\n",
            "2/2 - 0s - loss: 8.0090 - accuracy: 0.5614 - val_loss: 8.8361 - val_accuracy: 0.4286 - 37ms/epoch - 19ms/step\n",
            "Epoch 16/50\n",
            "2/2 - 0s - loss: 10.0956 - accuracy: 0.4386 - val_loss: 6.4720 - val_accuracy: 0.4286 - 33ms/epoch - 17ms/step\n",
            "Epoch 17/50\n",
            "2/2 - 0s - loss: 6.5403 - accuracy: 0.4386 - val_loss: 12.3435 - val_accuracy: 0.5714 - 36ms/epoch - 18ms/step\n",
            "Epoch 18/50\n",
            "2/2 - 0s - loss: 13.0258 - accuracy: 0.5614 - val_loss: 6.6210 - val_accuracy: 0.5714 - 32ms/epoch - 16ms/step\n",
            "Epoch 19/50\n",
            "2/2 - 0s - loss: 7.1711 - accuracy: 0.4035 - val_loss: 7.4036 - val_accuracy: 0.4286 - 34ms/epoch - 17ms/step\n",
            "Epoch 20/50\n",
            "2/2 - 0s - loss: 4.7502 - accuracy: 0.4211 - val_loss: 1.6201 - val_accuracy: 0.5714 - 33ms/epoch - 16ms/step\n",
            "Epoch 21/50\n",
            "2/2 - 0s - loss: 2.2204 - accuracy: 0.5614 - val_loss: 1.8162 - val_accuracy: 0.5714 - 34ms/epoch - 17ms/step\n",
            "Epoch 22/50\n",
            "2/2 - 0s - loss: 1.3346 - accuracy: 0.6140 - val_loss: 1.2021 - val_accuracy: 0.2857 - 34ms/epoch - 17ms/step\n",
            "Epoch 23/50\n",
            "2/2 - 0s - loss: 1.6694 - accuracy: 0.5614 - val_loss: 2.0122 - val_accuracy: 0.5714 - 52ms/epoch - 26ms/step\n",
            "Epoch 24/50\n",
            "2/2 - 0s - loss: 2.0997 - accuracy: 0.5263 - val_loss: 1.9312 - val_accuracy: 0.5714 - 32ms/epoch - 16ms/step\n",
            "Epoch 25/50\n",
            "2/2 - 0s - loss: 1.5920 - accuracy: 0.4912 - val_loss: 2.5188 - val_accuracy: 0.5714 - 35ms/epoch - 18ms/step\n",
            "Epoch 26/50\n",
            "2/2 - 0s - loss: 2.7102 - accuracy: 0.5439 - val_loss: 5.2911 - val_accuracy: 0.4286 - 33ms/epoch - 16ms/step\n",
            "Epoch 27/50\n",
            "2/2 - 0s - loss: 2.9950 - accuracy: 0.5088 - val_loss: 4.4586 - val_accuracy: 0.5714 - 33ms/epoch - 17ms/step\n",
            "Epoch 28/50\n",
            "2/2 - 0s - loss: 5.2255 - accuracy: 0.5614 - val_loss: 1.0245 - val_accuracy: 0.4286 - 35ms/epoch - 18ms/step\n",
            "Epoch 29/50\n",
            "2/2 - 0s - loss: 4.8852 - accuracy: 0.4211 - val_loss: 4.8357 - val_accuracy: 0.4286 - 33ms/epoch - 17ms/step\n",
            "Epoch 30/50\n",
            "2/2 - 0s - loss: 3.6553 - accuracy: 0.5965 - val_loss: 8.7859 - val_accuracy: 0.5714 - 39ms/epoch - 19ms/step\n",
            "Epoch 31/50\n",
            "2/2 - 0s - loss: 8.5357 - accuracy: 0.5614 - val_loss: 1.0399 - val_accuracy: 0.5714 - 33ms/epoch - 17ms/step\n",
            "Epoch 32/50\n",
            "2/2 - 0s - loss: 6.1456 - accuracy: 0.5088 - val_loss: 13.6645 - val_accuracy: 0.4286 - 33ms/epoch - 16ms/step\n",
            "Epoch 33/50\n",
            "2/2 - 0s - loss: 9.4136 - accuracy: 0.4386 - val_loss: 7.7043 - val_accuracy: 0.5714 - 32ms/epoch - 16ms/step\n",
            "Epoch 34/50\n",
            "2/2 - 0s - loss: 10.8378 - accuracy: 0.5614 - val_loss: 14.2261 - val_accuracy: 0.5714 - 35ms/epoch - 17ms/step\n",
            "Epoch 35/50\n",
            "2/2 - 0s - loss: 12.6592 - accuracy: 0.5614 - val_loss: 1.1031 - val_accuracy: 0.5714 - 35ms/epoch - 17ms/step\n",
            "Epoch 36/50\n",
            "2/2 - 0s - loss: 8.5441 - accuracy: 0.4386 - val_loss: 21.0301 - val_accuracy: 0.4286 - 34ms/epoch - 17ms/step\n",
            "Epoch 37/50\n",
            "2/2 - 0s - loss: 18.8827 - accuracy: 0.4386 - val_loss: 4.5548 - val_accuracy: 0.4286 - 37ms/epoch - 19ms/step\n",
            "Epoch 38/50\n",
            "2/2 - 0s - loss: 5.6269 - accuracy: 0.5965 - val_loss: 20.4952 - val_accuracy: 0.5714 - 33ms/epoch - 16ms/step\n",
            "Epoch 39/50\n",
            "2/2 - 0s - loss: 23.0330 - accuracy: 0.5614 - val_loss: 22.9609 - val_accuracy: 0.5714 - 32ms/epoch - 16ms/step\n",
            "Epoch 40/50\n",
            "2/2 - 0s - loss: 20.8295 - accuracy: 0.5614 - val_loss: 6.5289 - val_accuracy: 0.5714 - 33ms/epoch - 17ms/step\n",
            "Epoch 41/50\n",
            "2/2 - 0s - loss: 9.3509 - accuracy: 0.4386 - val_loss: 17.8994 - val_accuracy: 0.4286 - 34ms/epoch - 17ms/step\n",
            "Epoch 42/50\n",
            "2/2 - 0s - loss: 15.8848 - accuracy: 0.4386 - val_loss: 6.4393 - val_accuracy: 0.4286 - 36ms/epoch - 18ms/step\n",
            "Epoch 43/50\n",
            "2/2 - 0s - loss: 6.2107 - accuracy: 0.4912 - val_loss: 14.6582 - val_accuracy: 0.5714 - 34ms/epoch - 17ms/step\n",
            "Epoch 44/50\n",
            "2/2 - 0s - loss: 16.2767 - accuracy: 0.5614 - val_loss: 14.1672 - val_accuracy: 0.5714 - 34ms/epoch - 17ms/step\n",
            "Epoch 45/50\n",
            "2/2 - 0s - loss: 12.2804 - accuracy: 0.5614 - val_loss: 3.1654 - val_accuracy: 0.4286 - 33ms/epoch - 16ms/step\n",
            "Epoch 46/50\n",
            "2/2 - 0s - loss: 6.4417 - accuracy: 0.4035 - val_loss: 9.2942 - val_accuracy: 0.4286 - 34ms/epoch - 17ms/step\n",
            "Epoch 47/50\n",
            "2/2 - 0s - loss: 5.4382 - accuracy: 0.4737 - val_loss: 4.3220 - val_accuracy: 0.5714 - 34ms/epoch - 17ms/step\n",
            "Epoch 48/50\n",
            "2/2 - 0s - loss: 4.5743 - accuracy: 0.5614 - val_loss: 2.3749 - val_accuracy: 0.5714 - 37ms/epoch - 19ms/step\n",
            "Epoch 49/50\n",
            "2/2 - 0s - loss: 1.5645 - accuracy: 0.5614 - val_loss: 1.2872 - val_accuracy: 0.4286 - 34ms/epoch - 17ms/step\n",
            "Epoch 50/50\n",
            "2/2 - 0s - loss: 1.8187 - accuracy: 0.5439 - val_loss: 2.3814 - val_accuracy: 0.5714 - 34ms/epoch - 17ms/step\n",
            "1/1 [==============================] - 0s 24ms/step - loss: 0.7077 - accuracy: 0.6250\n",
            "Test Accuracy: 62.50%\n"
          ]
        }
      ]
    },
    {
      "cell_type": "code",
      "source": [
        "import numpy as np\n",
        "import tensorflow as tf\n",
        "\n",
        "formants = np.array([[495, 1868, 2683, 3863]])\n",
        "\n",
        "\n",
        "model = tf.keras.models.load_model('/content/trainedmodel.h')\n",
        "\n",
        "\n",
        "predicted_probabilities = model.predict(formants)\n",
        "\n",
        "\n",
        "predicted_label = np.argmax(predicted_probabilities)\n",
        "\n",
        "\n",
        "predicted_speaker = label_encoder.inverse_transform([predicted_label])\n",
        "\n",
        "# Display the predicted speaker\n",
        "print(f\"Predicted Speaker: {predicted_speaker[0]}\")\n"
      ],
      "metadata": {
        "colab": {
          "base_uri": "https://localhost:8080/"
        },
        "id": "NrEPEtL-_IpX",
        "outputId": "0bfd10d2-793f-4d46-b8a8-06e7c8a892e2"
      },
      "execution_count": null,
      "outputs": [
        {
          "output_type": "stream",
          "name": "stdout",
          "text": [
            "1/1 [==============================] - 0s 72ms/step\n",
            "Predicted Speaker: person1\n"
          ]
        }
      ]
    }
  ]
}